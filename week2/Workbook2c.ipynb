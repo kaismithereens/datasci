{
 "cells": [
  {
   "cell_type": "code",
   "execution_count": 2,
   "metadata": {},
   "outputs": [
    {
     "name": "stdout",
     "output_type": "stream",
     "text": [
      "3142\n"
     ]
    },
    {
     "name": "stderr",
     "output_type": "stream",
     "text": [
      "/home/tea/anaconda3/lib/python3.7/site-packages/pandas/core/indexing.py:670: SettingWithCopyWarning: \n",
      "A value is trying to be set on a copy of a slice from a DataFrame\n",
      "\n",
      "See the caveats in the documentation: https://pandas.pydata.org/pandas-docs/stable/user_guide/indexing.html#returning-a-view-versus-a-copy\n",
      "  self._setitem_with_indexer(indexer, value)\n"
     ]
    },
    {
     "name": "stdout",
     "output_type": "stream",
     "text": [
      "Los Angeles County\n"
     ]
    }
   ],
   "source": [
    "import pandas as pd\n",
    "parttwo_df = pd.read_csv('census.csv')\n",
    "#parttwo_df.head()\n",
    "\n",
    "helper = ['POPESTIMATE2010','POPESTIMATE2011','POPESTIMATE2012','POPESTIMATE2013','POPESTIMATE2014',\n",
    "'POPESTIMATE2015']\n",
    "my_columns = ['STNAME', 'CTYNAME', 'SUMLEV'] + helper\n",
    "\n",
    "question7_df = parttwo_df[my_columns]\n",
    "question7_df = question7_df.where(question7_df['SUMLEV'] == 50)\n",
    "question7_df = question7_df.dropna()\n",
    "state_list = question7_df['STNAME'].unique()\n",
    "county_list = question7_df['CTYNAME']\n",
    "#print((state_list))\n",
    "\n",
    "new_q7_df = pd.DataFrame()\n",
    "new_q7_df['County'] = county_list\n",
    "new_q7_df['State'] = parttwo_df['STNAME']\n",
    "new_q7_df['POPCHANGE'] = 0\n",
    "new_q7_df.set_index('County', inplace = True)\n",
    "print(len(new_q7_df))\n",
    "\n",
    "for cty in new_q7_df.index:    \n",
    "    diff = abs(max(question7_df[question7_df['CTYNAME'] == cty].iloc[0][3:]) - \\\n",
    "                min(question7_df[question7_df['CTYNAME'] == cty].iloc[0][3:]))\n",
    "    #print(cty, diff)\n",
    "    new_q7_df['POPCHANGE'].loc[cty] = diff\n",
    "    \n",
    "#print(new_q7_df.head())\n",
    "\n",
    "#print(question7_df[question7_df['CTYNAME'] == 'Los Angeles County'])\n",
    "\n",
    "print(new_q7_df.sort_values(by='POPCHANGE', ascending=False).head(1).index[0])"
   ]
  },
  {
   "cell_type": "code",
   "execution_count": null,
   "metadata": {},
   "outputs": [],
   "source": []
  }
 ],
 "metadata": {
  "kernelspec": {
   "display_name": "Python 3",
   "language": "python",
   "name": "python3"
  },
  "language_info": {
   "codemirror_mode": {
    "name": "ipython",
    "version": 3
   },
   "file_extension": ".py",
   "mimetype": "text/x-python",
   "name": "python",
   "nbconvert_exporter": "python",
   "pygments_lexer": "ipython3",
   "version": "3.7.6"
  }
 },
 "nbformat": 4,
 "nbformat_minor": 4
}
