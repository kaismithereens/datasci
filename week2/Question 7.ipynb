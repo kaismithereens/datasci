{
 "cells": [
  {
   "cell_type": "code",
   "execution_count": 1,
   "metadata": {},
   "outputs": [],
   "source": [
    "import pandas as pd\n",
    "\n",
    "parttwo_df = pd.read_csv('census.csv')\n",
    "\n",
    "helper = ['POPESTIMATE2010','POPESTIMATE2011','POPESTIMATE2012','POPESTIMATE2013','POPESTIMATE2014',\n",
    "    'POPESTIMATE2015']\n",
    "my_columns = ['STNAME', 'CTYNAME', 'SUMLEV'] + helper"
   ]
  },
  {
   "cell_type": "code",
   "execution_count": 16,
   "metadata": {},
   "outputs": [],
   "source": [
    "import numpy as np\n",
    "def min_max(row):\n",
    "    data = row[helper]\n",
    "    row['max'] = np.max(data)\n",
    "    row['min'] = np.min(data)\n",
    "    return row"
   ]
  },
  {
   "cell_type": "code",
   "execution_count": 2,
   "metadata": {},
   "outputs": [
    {
     "name": "stderr",
     "output_type": "stream",
     "text": [
      "/home/tea/anaconda3/lib/python3.7/site-packages/pandas/core/indexing.py:670: SettingWithCopyWarning: \n",
      "A value is trying to be set on a copy of a slice from a DataFrame\n",
      "\n",
      "See the caveats in the documentation: https://pandas.pydata.org/pandas-docs/stable/user_guide/indexing.html#returning-a-view-versus-a-copy\n",
      "  self._setitem_with_indexer(indexer, value)\n"
     ]
    },
    {
     "data": {
      "text/plain": [
       "'Los Angeles County'"
      ]
     },
     "execution_count": 2,
     "metadata": {},
     "output_type": "execute_result"
    }
   ],
   "source": [
    "def answer_seven():\n",
    "\n",
    "    question7_df = parttwo_df[my_columns]\n",
    "    question7_df = question7_df.where(question7_df['SUMLEV'] == 50)\n",
    "    question7_df = question7_df.dropna()\n",
    "    state_list = question7_df['STNAME'].unique()\n",
    "    county_list = question7_df['CTYNAME']\n",
    "\n",
    "    new_q7_df = pd.DataFrame()\n",
    "    new_q7_df['County'] = county_list\n",
    "    new_q7_df['State'] = parttwo_df['STNAME']\n",
    "    new_q7_df['POPCHANGE'] = 0\n",
    "    new_q7_df.set_index('County', inplace = True)\n",
    "\n",
    "    for cty in new_q7_df.index:    \n",
    "        diff = abs(max(question7_df[question7_df['CTYNAME'] == cty].iloc[0,3:]) - \\\n",
    "                min(question7_df[question7_df['CTYNAME'] == cty].iloc[0,3:]))\n",
    "        new_q7_df['POPCHANGE'].loc[cty] = diff\n",
    "\n",
    "    return (new_q7_df.sort_values(by='POPCHANGE', ascending=False).head(1).index[0])\n",
    "answer_seven()"
   ]
  },
  {
   "cell_type": "code",
   "execution_count": 15,
   "metadata": {},
   "outputs": [
    {
     "data": {
      "text/html": [
       "<div>\n",
       "<style scoped>\n",
       "    .dataframe tbody tr th:only-of-type {\n",
       "        vertical-align: middle;\n",
       "    }\n",
       "\n",
       "    .dataframe tbody tr th {\n",
       "        vertical-align: top;\n",
       "    }\n",
       "\n",
       "    .dataframe thead th {\n",
       "        text-align: right;\n",
       "    }\n",
       "</style>\n",
       "<table border=\"1\" class=\"dataframe\">\n",
       "  <thead>\n",
       "    <tr style=\"text-align: right;\">\n",
       "      <th></th>\n",
       "      <th></th>\n",
       "      <th>SUMLEV</th>\n",
       "      <th>POPESTIMATE2010</th>\n",
       "      <th>POPESTIMATE2011</th>\n",
       "      <th>POPESTIMATE2012</th>\n",
       "      <th>POPESTIMATE2013</th>\n",
       "      <th>POPESTIMATE2014</th>\n",
       "      <th>POPESTIMATE2015</th>\n",
       "    </tr>\n",
       "    <tr>\n",
       "      <th>STNAME</th>\n",
       "      <th>CTYNAME</th>\n",
       "      <th></th>\n",
       "      <th></th>\n",
       "      <th></th>\n",
       "      <th></th>\n",
       "      <th></th>\n",
       "      <th></th>\n",
       "      <th></th>\n",
       "    </tr>\n",
       "  </thead>\n",
       "  <tbody>\n",
       "    <tr>\n",
       "      <th rowspan=\"5\" valign=\"top\">Alabama</th>\n",
       "      <th>Autauga County</th>\n",
       "      <td>50.0</td>\n",
       "      <td>54660.0</td>\n",
       "      <td>55253.0</td>\n",
       "      <td>55175.0</td>\n",
       "      <td>55038.0</td>\n",
       "      <td>55290.0</td>\n",
       "      <td>55347.0</td>\n",
       "    </tr>\n",
       "    <tr>\n",
       "      <th>Baldwin County</th>\n",
       "      <td>50.0</td>\n",
       "      <td>183193.0</td>\n",
       "      <td>186659.0</td>\n",
       "      <td>190396.0</td>\n",
       "      <td>195126.0</td>\n",
       "      <td>199713.0</td>\n",
       "      <td>203709.0</td>\n",
       "    </tr>\n",
       "    <tr>\n",
       "      <th>Barbour County</th>\n",
       "      <td>50.0</td>\n",
       "      <td>27341.0</td>\n",
       "      <td>27226.0</td>\n",
       "      <td>27159.0</td>\n",
       "      <td>26973.0</td>\n",
       "      <td>26815.0</td>\n",
       "      <td>26489.0</td>\n",
       "    </tr>\n",
       "    <tr>\n",
       "      <th>Bibb County</th>\n",
       "      <td>50.0</td>\n",
       "      <td>22861.0</td>\n",
       "      <td>22733.0</td>\n",
       "      <td>22642.0</td>\n",
       "      <td>22512.0</td>\n",
       "      <td>22549.0</td>\n",
       "      <td>22583.0</td>\n",
       "    </tr>\n",
       "    <tr>\n",
       "      <th>Blount County</th>\n",
       "      <td>50.0</td>\n",
       "      <td>57373.0</td>\n",
       "      <td>57711.0</td>\n",
       "      <td>57776.0</td>\n",
       "      <td>57734.0</td>\n",
       "      <td>57658.0</td>\n",
       "      <td>57673.0</td>\n",
       "    </tr>\n",
       "  </tbody>\n",
       "</table>\n",
       "</div>"
      ],
      "text/plain": [
       "                        SUMLEV  POPESTIMATE2010  POPESTIMATE2011  \\\n",
       "STNAME  CTYNAME                                                    \n",
       "Alabama Autauga County    50.0          54660.0          55253.0   \n",
       "        Baldwin County    50.0         183193.0         186659.0   \n",
       "        Barbour County    50.0          27341.0          27226.0   \n",
       "        Bibb County       50.0          22861.0          22733.0   \n",
       "        Blount County     50.0          57373.0          57711.0   \n",
       "\n",
       "                        POPESTIMATE2012  POPESTIMATE2013  POPESTIMATE2014  \\\n",
       "STNAME  CTYNAME                                                             \n",
       "Alabama Autauga County          55175.0          55038.0          55290.0   \n",
       "        Baldwin County         190396.0         195126.0         199713.0   \n",
       "        Barbour County          27159.0          26973.0          26815.0   \n",
       "        Bibb County             22642.0          22512.0          22549.0   \n",
       "        Blount County           57776.0          57734.0          57658.0   \n",
       "\n",
       "                        POPESTIMATE2015  \n",
       "STNAME  CTYNAME                          \n",
       "Alabama Autauga County          55347.0  \n",
       "        Baldwin County         203709.0  \n",
       "        Barbour County          26489.0  \n",
       "        Bibb County             22583.0  \n",
       "        Blount County           57673.0  "
      ]
     },
     "execution_count": 15,
     "metadata": {},
     "output_type": "execute_result"
    }
   ],
   "source": [
    "q7 = parttwo_df[my_columns]\n",
    "q7 = q7.where(q7['SUMLEV'] == 50).dropna().set_index(['STNAME', 'CTYNAME'])\n",
    "q7.head()\n"
   ]
  },
  {
   "cell_type": "code",
   "execution_count": 22,
   "metadata": {},
   "outputs": [],
   "source": [
    "tea = q7.apply(min_max, axis = 1)"
   ]
  },
  {
   "cell_type": "code",
   "execution_count": 24,
   "metadata": {},
   "outputs": [
    {
     "data": {
      "text/html": [
       "<div>\n",
       "<style scoped>\n",
       "    .dataframe tbody tr th:only-of-type {\n",
       "        vertical-align: middle;\n",
       "    }\n",
       "\n",
       "    .dataframe tbody tr th {\n",
       "        vertical-align: top;\n",
       "    }\n",
       "\n",
       "    .dataframe thead th {\n",
       "        text-align: right;\n",
       "    }\n",
       "</style>\n",
       "<table border=\"1\" class=\"dataframe\">\n",
       "  <thead>\n",
       "    <tr style=\"text-align: right;\">\n",
       "      <th></th>\n",
       "      <th></th>\n",
       "      <th>SUMLEV</th>\n",
       "      <th>POPESTIMATE2010</th>\n",
       "      <th>POPESTIMATE2011</th>\n",
       "      <th>POPESTIMATE2012</th>\n",
       "      <th>POPESTIMATE2013</th>\n",
       "      <th>POPESTIMATE2014</th>\n",
       "      <th>POPESTIMATE2015</th>\n",
       "      <th>diff</th>\n",
       "      <th>max</th>\n",
       "      <th>min</th>\n",
       "    </tr>\n",
       "    <tr>\n",
       "      <th>STNAME</th>\n",
       "      <th>CTYNAME</th>\n",
       "      <th></th>\n",
       "      <th></th>\n",
       "      <th></th>\n",
       "      <th></th>\n",
       "      <th></th>\n",
       "      <th></th>\n",
       "      <th></th>\n",
       "      <th></th>\n",
       "      <th></th>\n",
       "      <th></th>\n",
       "    </tr>\n",
       "  </thead>\n",
       "  <tbody>\n",
       "    <tr>\n",
       "      <th rowspan=\"5\" valign=\"top\">Alabama</th>\n",
       "      <th>Autauga County</th>\n",
       "      <td>50.0</td>\n",
       "      <td>54660.0</td>\n",
       "      <td>55253.0</td>\n",
       "      <td>55175.0</td>\n",
       "      <td>55038.0</td>\n",
       "      <td>55290.0</td>\n",
       "      <td>55347.0</td>\n",
       "      <td>687.0</td>\n",
       "      <td>55347.0</td>\n",
       "      <td>54660.0</td>\n",
       "    </tr>\n",
       "    <tr>\n",
       "      <th>Baldwin County</th>\n",
       "      <td>50.0</td>\n",
       "      <td>183193.0</td>\n",
       "      <td>186659.0</td>\n",
       "      <td>190396.0</td>\n",
       "      <td>195126.0</td>\n",
       "      <td>199713.0</td>\n",
       "      <td>203709.0</td>\n",
       "      <td>20516.0</td>\n",
       "      <td>203709.0</td>\n",
       "      <td>183193.0</td>\n",
       "    </tr>\n",
       "    <tr>\n",
       "      <th>Barbour County</th>\n",
       "      <td>50.0</td>\n",
       "      <td>27341.0</td>\n",
       "      <td>27226.0</td>\n",
       "      <td>27159.0</td>\n",
       "      <td>26973.0</td>\n",
       "      <td>26815.0</td>\n",
       "      <td>26489.0</td>\n",
       "      <td>852.0</td>\n",
       "      <td>27341.0</td>\n",
       "      <td>26489.0</td>\n",
       "    </tr>\n",
       "    <tr>\n",
       "      <th>Bibb County</th>\n",
       "      <td>50.0</td>\n",
       "      <td>22861.0</td>\n",
       "      <td>22733.0</td>\n",
       "      <td>22642.0</td>\n",
       "      <td>22512.0</td>\n",
       "      <td>22549.0</td>\n",
       "      <td>22583.0</td>\n",
       "      <td>349.0</td>\n",
       "      <td>22861.0</td>\n",
       "      <td>22512.0</td>\n",
       "    </tr>\n",
       "    <tr>\n",
       "      <th>Blount County</th>\n",
       "      <td>50.0</td>\n",
       "      <td>57373.0</td>\n",
       "      <td>57711.0</td>\n",
       "      <td>57776.0</td>\n",
       "      <td>57734.0</td>\n",
       "      <td>57658.0</td>\n",
       "      <td>57673.0</td>\n",
       "      <td>403.0</td>\n",
       "      <td>57776.0</td>\n",
       "      <td>57373.0</td>\n",
       "    </tr>\n",
       "  </tbody>\n",
       "</table>\n",
       "</div>"
      ],
      "text/plain": [
       "                        SUMLEV  POPESTIMATE2010  POPESTIMATE2011  \\\n",
       "STNAME  CTYNAME                                                    \n",
       "Alabama Autauga County    50.0          54660.0          55253.0   \n",
       "        Baldwin County    50.0         183193.0         186659.0   \n",
       "        Barbour County    50.0          27341.0          27226.0   \n",
       "        Bibb County       50.0          22861.0          22733.0   \n",
       "        Blount County     50.0          57373.0          57711.0   \n",
       "\n",
       "                        POPESTIMATE2012  POPESTIMATE2013  POPESTIMATE2014  \\\n",
       "STNAME  CTYNAME                                                             \n",
       "Alabama Autauga County          55175.0          55038.0          55290.0   \n",
       "        Baldwin County         190396.0         195126.0         199713.0   \n",
       "        Barbour County          27159.0          26973.0          26815.0   \n",
       "        Bibb County             22642.0          22512.0          22549.0   \n",
       "        Blount County           57776.0          57734.0          57658.0   \n",
       "\n",
       "                        POPESTIMATE2015     diff       max       min  \n",
       "STNAME  CTYNAME                                                       \n",
       "Alabama Autauga County          55347.0    687.0   55347.0   54660.0  \n",
       "        Baldwin County         203709.0  20516.0  203709.0  183193.0  \n",
       "        Barbour County          26489.0    852.0   27341.0   26489.0  \n",
       "        Bibb County             22583.0    349.0   22861.0   22512.0  \n",
       "        Blount County           57673.0    403.0   57776.0   57373.0  "
      ]
     },
     "execution_count": 24,
     "metadata": {},
     "output_type": "execute_result"
    }
   ],
   "source": [
    "#q7.reset_index(inplace = True)\n",
    "q7['diff'] = 0\n",
    "#q7['diff'] = q7['max'] - q7['min']\n",
    "\n",
    "tea['diff'] = tea['max'] - tea['min']\n",
    "tea.head()"
   ]
  },
  {
   "cell_type": "code",
   "execution_count": 25,
   "metadata": {},
   "outputs": [],
   "source": [
    "def calculate_diff(row):\n",
    "    data = row[helper]\n",
    "    row['max'] = np.max(data)\n",
    "    row['min'] = np.min(data)\n",
    "    row['diff'] = row['max'] - row['min']\n",
    "    return row['diff']"
   ]
  },
  {
   "cell_type": "code",
   "execution_count": 33,
   "metadata": {},
   "outputs": [
    {
     "data": {
      "text/plain": [
       "STNAME   CTYNAME       \n",
       "Alabama  Autauga County      687.0\n",
       "         Baldwin County    20516.0\n",
       "         Barbour County      852.0\n",
       "         Bibb County         349.0\n",
       "         Blount County       403.0\n",
       "dtype: float64"
      ]
     },
     "execution_count": 33,
     "metadata": {},
     "output_type": "execute_result"
    }
   ],
   "source": [
    "new_q7 = q7.apply(calculate_diff, axis = 1)\n",
    "new_q7.sort_values(axis = 0, ascending = False)\n",
    "new_q7.head()"
   ]
  },
  {
   "cell_type": "code",
   "execution_count": 53,
   "metadata": {},
   "outputs": [
    {
     "data": {
      "text/plain": [
       "'Harris County'"
      ]
     },
     "execution_count": 53,
     "metadata": {},
     "output_type": "execute_result"
    }
   ],
   "source": [
    "county = pd.DataFrame(new_q7, columns = ['diff']).nlargest(1, columns='diff').index[0][1]\n",
    "county"
   ]
  },
  {
   "cell_type": "code",
   "execution_count": 45,
   "metadata": {},
   "outputs": [
    {
     "name": "stdout",
     "output_type": "stream",
     "text": [
      "Harris County\n"
     ]
    }
   ],
   "source": [
    "q7['diff'] = new_q7\n",
    "print (q7.nlargest(1, columns = 'diff').index[0][1])\n"
   ]
  }
 ],
 "metadata": {
  "kernelspec": {
   "display_name": "Python 3",
   "language": "python",
   "name": "python3"
  },
  "language_info": {
   "codemirror_mode": {
    "name": "ipython",
    "version": 3
   },
   "file_extension": ".py",
   "mimetype": "text/x-python",
   "name": "python",
   "nbconvert_exporter": "python",
   "pygments_lexer": "ipython3",
   "version": "3.7.6"
  }
 },
 "nbformat": 4,
 "nbformat_minor": 4
}
