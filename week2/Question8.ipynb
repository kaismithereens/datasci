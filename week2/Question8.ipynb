{
 "cells": [
  {
   "cell_type": "code",
   "execution_count": 12,
   "metadata": {},
   "outputs": [],
   "source": [
    "import pandas as pd\n",
    "import numpy as np"
   ]
  },
  {
   "cell_type": "code",
   "execution_count": 13,
   "metadata": {},
   "outputs": [
    {
     "data": {
      "text/html": [
       "<div>\n",
       "<style scoped>\n",
       "    .dataframe tbody tr th:only-of-type {\n",
       "        vertical-align: middle;\n",
       "    }\n",
       "\n",
       "    .dataframe tbody tr th {\n",
       "        vertical-align: top;\n",
       "    }\n",
       "\n",
       "    .dataframe thead th {\n",
       "        text-align: right;\n",
       "    }\n",
       "</style>\n",
       "<table border=\"1\" class=\"dataframe\">\n",
       "  <thead>\n",
       "    <tr style=\"text-align: right;\">\n",
       "      <th></th>\n",
       "      <th>CTYNAME</th>\n",
       "      <th>STNAME</th>\n",
       "    </tr>\n",
       "  </thead>\n",
       "  <tbody>\n",
       "    <tr>\n",
       "      <th>896</th>\n",
       "      <td>Washington County</td>\n",
       "      <td>Iowa</td>\n",
       "    </tr>\n",
       "    <tr>\n",
       "      <th>1334</th>\n",
       "      <td>Washtenaw County</td>\n",
       "      <td>Michigan</td>\n",
       "    </tr>\n",
       "    <tr>\n",
       "      <th>1419</th>\n",
       "      <td>Washington County</td>\n",
       "      <td>Minnesota</td>\n",
       "    </tr>\n",
       "    <tr>\n",
       "      <th>2345</th>\n",
       "      <td>Washington County</td>\n",
       "      <td>Pennsylvania</td>\n",
       "    </tr>\n",
       "    <tr>\n",
       "      <th>2355</th>\n",
       "      <td>Washington County</td>\n",
       "      <td>Rhode Island</td>\n",
       "    </tr>\n",
       "  </tbody>\n",
       "</table>\n",
       "</div>"
      ],
      "text/plain": [
       "                CTYNAME        STNAME\n",
       "896   Washington County          Iowa\n",
       "1334   Washtenaw County      Michigan\n",
       "1419  Washington County     Minnesota\n",
       "2345  Washington County  Pennsylvania\n",
       "2355  Washington County  Rhode Island"
      ]
     },
     "execution_count": 13,
     "metadata": {},
     "output_type": "execute_result"
    }
   ],
   "source": [
    "def answer_eight():\n",
    "    parttwo_df = pd.read_csv('census.csv')\n",
    "    helper = ['REGION','POPESTIMATE2015','POPESTIMATE2014']\n",
    "    my_columns = ['STNAME', 'CTYNAME', 'SUMLEV'] + helper\n",
    "\n",
    "    question8_df = parttwo_df[my_columns]\n",
    "    question8_df = question8_df.where(question8_df['SUMLEV'] == 50)\n",
    "    question8_df = question8_df.dropna()\n",
    "    state_list = question8_df['STNAME'].unique()\n",
    "    county_list = question8_df['CTYNAME']\n",
    "\n",
    "    new_q8_df = question8_df.copy()\n",
    "    new_q8_df.set_index('CTYNAME', inplace = True)\n",
    "\n",
    "    filter_df = question8_df[(question8_df['CTYNAME'].str.startswith('Wash')) & (question8_df['POPESTIMATE2015'] > question8_df['POPESTIMATE2014']) & (question8_df['REGION'].isin([1,2]))]\n",
    "    answer = pd.DataFrame(filter_df[['CTYNAME','STNAME']].head())\n",
    "    return answer\n",
    "answer_eight()"
   ]
  },
  {
   "cell_type": "code",
   "execution_count": 14,
   "metadata": {},
   "outputs": [],
   "source": [
    "parttwo_df = pd.read_csv('census.csv')\n",
    "helper = ['REGION','POPESTIMATE2015','POPESTIMATE2014']\n",
    "my_columns = ['STNAME', 'CTYNAME', 'SUMLEV'] + helper\n"
   ]
  },
  {
   "cell_type": "code",
   "execution_count": 22,
   "metadata": {},
   "outputs": [
    {
     "data": {
      "text/plain": [
       "STNAME             493\n",
       "CTYNAME            493\n",
       "SUMLEV             493\n",
       "REGION             493\n",
       "POPESTIMATE2015    493\n",
       "POPESTIMATE2014    493\n",
       "dtype: int64"
      ]
     },
     "execution_count": 22,
     "metadata": {},
     "output_type": "execute_result"
    }
   ],
   "source": [
    "q8 = parttwo_df[my_columns]\n",
    "q8 = q8.where(q8['SUMLEV'] == 50).dropna()\n",
    "q8 = q8.where(q8['POPESTIMATE2015'] > q8['POPESTIMATE2014']).dropna()\n",
    "q8 = q8.where(q8['REGION'].isin([1,2])).dropna()\n",
    "q8.head()\n",
    "q8.count()"
   ]
  },
  {
   "cell_type": "code",
   "execution_count": 24,
   "metadata": {},
   "outputs": [
    {
     "data": {
      "text/html": [
       "<div>\n",
       "<style scoped>\n",
       "    .dataframe tbody tr th:only-of-type {\n",
       "        vertical-align: middle;\n",
       "    }\n",
       "\n",
       "    .dataframe tbody tr th {\n",
       "        vertical-align: top;\n",
       "    }\n",
       "\n",
       "    .dataframe thead th {\n",
       "        text-align: right;\n",
       "    }\n",
       "</style>\n",
       "<table border=\"1\" class=\"dataframe\">\n",
       "  <thead>\n",
       "    <tr style=\"text-align: right;\">\n",
       "      <th></th>\n",
       "      <th>STNAME</th>\n",
       "      <th>CTYNAME</th>\n",
       "      <th>SUMLEV</th>\n",
       "      <th>REGION</th>\n",
       "      <th>POPESTIMATE2015</th>\n",
       "      <th>POPESTIMATE2014</th>\n",
       "    </tr>\n",
       "  </thead>\n",
       "  <tbody>\n",
       "    <tr>\n",
       "      <th>896</th>\n",
       "      <td>Iowa</td>\n",
       "      <td>Washington County</td>\n",
       "      <td>50.0</td>\n",
       "      <td>2.0</td>\n",
       "      <td>22247.0</td>\n",
       "      <td>22087.0</td>\n",
       "    </tr>\n",
       "    <tr>\n",
       "      <th>1419</th>\n",
       "      <td>Minnesota</td>\n",
       "      <td>Washington County</td>\n",
       "      <td>50.0</td>\n",
       "      <td>2.0</td>\n",
       "      <td>251597.0</td>\n",
       "      <td>249320.0</td>\n",
       "    </tr>\n",
       "    <tr>\n",
       "      <th>2345</th>\n",
       "      <td>Pennsylvania</td>\n",
       "      <td>Washington County</td>\n",
       "      <td>50.0</td>\n",
       "      <td>1.0</td>\n",
       "      <td>208261.0</td>\n",
       "      <td>208175.0</td>\n",
       "    </tr>\n",
       "    <tr>\n",
       "      <th>2355</th>\n",
       "      <td>Rhode Island</td>\n",
       "      <td>Washington County</td>\n",
       "      <td>50.0</td>\n",
       "      <td>1.0</td>\n",
       "      <td>126517.0</td>\n",
       "      <td>126430.0</td>\n",
       "    </tr>\n",
       "    <tr>\n",
       "      <th>3163</th>\n",
       "      <td>Wisconsin</td>\n",
       "      <td>Washington County</td>\n",
       "      <td>50.0</td>\n",
       "      <td>2.0</td>\n",
       "      <td>133674.0</td>\n",
       "      <td>133301.0</td>\n",
       "    </tr>\n",
       "  </tbody>\n",
       "</table>\n",
       "</div>"
      ],
      "text/plain": [
       "            STNAME            CTYNAME  SUMLEV  REGION  POPESTIMATE2015  \\\n",
       "896           Iowa  Washington County    50.0     2.0          22247.0   \n",
       "1419     Minnesota  Washington County    50.0     2.0         251597.0   \n",
       "2345  Pennsylvania  Washington County    50.0     1.0         208261.0   \n",
       "2355  Rhode Island  Washington County    50.0     1.0         126517.0   \n",
       "3163     Wisconsin  Washington County    50.0     2.0         133674.0   \n",
       "\n",
       "      POPESTIMATE2014  \n",
       "896           22087.0  \n",
       "1419         249320.0  \n",
       "2345         208175.0  \n",
       "2355         126430.0  \n",
       "3163         133301.0  "
      ]
     },
     "execution_count": 24,
     "metadata": {},
     "output_type": "execute_result"
    }
   ],
   "source": [
    "q8 = q8.where(q8['CTYNAME'] == 'Washington County').dropna()\n",
    "q8.head()"
   ]
  },
  {
   "cell_type": "code",
   "execution_count": 26,
   "metadata": {},
   "outputs": [
    {
     "data": {
      "text/html": [
       "<div>\n",
       "<style scoped>\n",
       "    .dataframe tbody tr th:only-of-type {\n",
       "        vertical-align: middle;\n",
       "    }\n",
       "\n",
       "    .dataframe tbody tr th {\n",
       "        vertical-align: top;\n",
       "    }\n",
       "\n",
       "    .dataframe thead th {\n",
       "        text-align: right;\n",
       "    }\n",
       "</style>\n",
       "<table border=\"1\" class=\"dataframe\">\n",
       "  <thead>\n",
       "    <tr style=\"text-align: right;\">\n",
       "      <th></th>\n",
       "      <th>CTYNAME</th>\n",
       "      <th>STNAME</th>\n",
       "    </tr>\n",
       "  </thead>\n",
       "  <tbody>\n",
       "    <tr>\n",
       "      <th>896</th>\n",
       "      <td>Washington County</td>\n",
       "      <td>Iowa</td>\n",
       "    </tr>\n",
       "    <tr>\n",
       "      <th>1419</th>\n",
       "      <td>Washington County</td>\n",
       "      <td>Minnesota</td>\n",
       "    </tr>\n",
       "    <tr>\n",
       "      <th>2345</th>\n",
       "      <td>Washington County</td>\n",
       "      <td>Pennsylvania</td>\n",
       "    </tr>\n",
       "    <tr>\n",
       "      <th>2355</th>\n",
       "      <td>Washington County</td>\n",
       "      <td>Rhode Island</td>\n",
       "    </tr>\n",
       "    <tr>\n",
       "      <th>3163</th>\n",
       "      <td>Washington County</td>\n",
       "      <td>Wisconsin</td>\n",
       "    </tr>\n",
       "  </tbody>\n",
       "</table>\n",
       "</div>"
      ],
      "text/plain": [
       "                CTYNAME        STNAME\n",
       "896   Washington County          Iowa\n",
       "1419  Washington County     Minnesota\n",
       "2345  Washington County  Pennsylvania\n",
       "2355  Washington County  Rhode Island\n",
       "3163  Washington County     Wisconsin"
      ]
     },
     "execution_count": 26,
     "metadata": {},
     "output_type": "execute_result"
    }
   ],
   "source": [
    "answer = q8[['CTYNAME','STNAME']]\n",
    "answer.head()"
   ]
  }
 ],
 "metadata": {
  "kernelspec": {
   "display_name": "Python 3",
   "language": "python",
   "name": "python3"
  },
  "language_info": {
   "codemirror_mode": {
    "name": "ipython",
    "version": 3
   },
   "file_extension": ".py",
   "mimetype": "text/x-python",
   "name": "python",
   "nbconvert_exporter": "python",
   "pygments_lexer": "ipython3",
   "version": "3.7.6"
  }
 },
 "nbformat": 4,
 "nbformat_minor": 4
}
