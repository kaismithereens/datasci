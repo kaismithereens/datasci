{
 "cells": [
  {
   "cell_type": "code",
   "execution_count": 1,
   "metadata": {},
   "outputs": [
    {
     "data": {
      "text/plain": [
       "['California', 'Illinois', 'Texas']"
      ]
     },
     "execution_count": 1,
     "metadata": {},
     "output_type": "execute_result"
    }
   ],
   "source": [
    "import pandas as pd\n",
    "def answer_six():\n",
    "    part2_df = pd.read_csv('census.csv')\n",
    "    counties = part2_df.where(part2_df['SUMLEV'] == 50)\n",
    "    counties = counties.dropna()\n",
    "    states = counties['STNAME'].unique()\n",
    "\n",
    "    col_to_keep = ['STNAME', 'CTYNAME', 'SUMLEV', 'CENSUS2010POP']\n",
    "    counties2 = counties[col_to_keep]\n",
    "    most_populus_counties = []\n",
    "    \n",
    "    state_df2 = pd.DataFrame()\n",
    "    state_df2['States'] = states\n",
    "    state_df2['Populus'] = 0\n",
    "    state_df2.set_index('States', inplace = True)\n",
    "\n",
    "    for st in state_df2.index:\n",
    "        pop_counties = (counties2[counties2['STNAME'] == st]).nlargest(3, 'CENSUS2010POP')\n",
    "                    \n",
    "        if isinstance(pop_counties, pd.Series):\n",
    "            most_populus_counties= sum(pop_counties['CENSUS2010POP'].head(3))\n",
    "            #print(most_populus_counties, type(most_populus_counties))\n",
    "        else:\n",
    "            #print(pop_counties, type(pop_counties))\n",
    "            most_populus_counties = max(pop_counties['CENSUS2010POP'])\n",
    "\n",
    "        state_df2['Populus'].loc[st] = most_populus_counties\n",
    "    \n",
    "    return state_df2.nlargest(3,'Populus').index.to_list()\n",
    "answer_six()"
   ]
  },
  {
   "cell_type": "code",
   "execution_count": 4,
   "metadata": {},
   "outputs": [
    {
     "data": {
      "text/plain": [
       "['California', 'Illinois', 'Texas']"
      ]
     },
     "execution_count": 4,
     "metadata": {},
     "output_type": "execute_result"
    }
   ],
   "source": [
    "def answer_six():\n",
    "    part2_df = pd.read_csv('census.csv')\n",
    "    counties = part2_df.where(part2_df['SUMLEV'] == 50)\n",
    "    counties = counties.dropna()\n",
    "    states = counties['STNAME'].unique()\n",
    "\n",
    "    col_to_keep = ['STNAME', 'CTYNAME', 'SUMLEV', 'CENSUS2010POP']\n",
    "    counties2 = counties[col_to_keep]\n",
    "    most_populus_counties = []\n",
    "    \n",
    "    state_df2 = pd.DataFrame()\n",
    "    state_df2['States'] = states\n",
    "    state_df2['Populus'] = 0\n",
    "    state_df2.set_index('States', inplace = True)\n",
    "\n",
    "    for st in state_df2.index:\n",
    "        pop_counties = (counties2[counties2['STNAME'] == st]).nlargest(3, 'CENSUS2010POP')\n",
    "                    \n",
    "        if isinstance(pop_counties, pd.Series):\n",
    "            most_populus_counties= sum(pop_counties['CENSUS2010POP'].head(3))\n",
    "        else:\n",
    "            most_populus_counties = max(pop_counties['CENSUS2010POP'])\n",
    "\n",
    "        state_df2['Populus'].loc[st] = most_populus_counties\n",
    "    \n",
    "    return state_df2.nlargest(3,'Populus').index.tolist()\n",
    "answer_six()"
   ]
  },
  {
   "cell_type": "code",
   "execution_count": 3,
   "metadata": {},
   "outputs": [
    {
     "data": {
      "text/plain": [
       "['California', 'Texas', 'Illinois']"
      ]
     },
     "execution_count": 3,
     "metadata": {},
     "output_type": "execute_result"
    }
   ],
   "source": [
    "def answer_six():\n",
    "    part2_df = pd.read_csv('census.csv')\n",
    "    counties = part2_df.where(part2_df['SUMLEV'] == 50)\n",
    "    counties = counties.dropna()\n",
    "    states = counties['STNAME'].unique()\n",
    "\n",
    "    col_to_keep = ['STNAME', 'CTYNAME', 'SUMLEV', 'CENSUS2010POP']\n",
    "    counties2 = counties[col_to_keep]\n",
    "    most_populus_counties = []\n",
    "    \n",
    "    state_df2 = pd.DataFrame()\n",
    "    state_df2['States'] = states\n",
    "    state_df2['Populus'] = 0\n",
    "    state_df2.set_index('States', inplace = True)\n",
    "\n",
    "    for st in state_df2.index:\n",
    "        pop_counties = (counties2[counties2['STNAME'] == st]).sort_values(by='CENSUS2010POP',ascending=False).head(3)\n",
    "        most_populus_counties= sum(pop_counties['CENSUS2010POP'])\n",
    "        state_df2['Populus'].loc[st] = most_populus_counties\n",
    "    \n",
    "    return state_df2.sort_values(by= 'Populus', ascending=False).head(3).index.to_list()\n",
    "answer_six()"
   ]
  }
 ],
 "metadata": {
  "kernelspec": {
   "display_name": "Python 3",
   "language": "python",
   "name": "python3"
  },
  "language_info": {
   "codemirror_mode": {
    "name": "ipython",
    "version": 3
   },
   "file_extension": ".py",
   "mimetype": "text/x-python",
   "name": "python",
   "nbconvert_exporter": "python",
   "pygments_lexer": "ipython3",
   "version": "3.7.6"
  }
 },
 "nbformat": 4,
 "nbformat_minor": 4
}
