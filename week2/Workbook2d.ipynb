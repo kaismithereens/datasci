{
 "cells": [
  {
   "cell_type": "code",
   "execution_count": 96,
   "metadata": {},
   "outputs": [
    {
     "name": "stdout",
     "output_type": "stream",
     "text": [
      "            STNAME            CTYNAME  SUMLEV  REGION  POPESTIMATE2015  \\\n",
      "1211         Maine  Washington County    50.0     1.0          31625.0   \n",
      "1918      New York  Washington County    50.0     1.0          62230.0   \n",
      "2345  Pennsylvania  Washington County    50.0     1.0         208261.0   \n",
      "2355  Rhode Island  Washington County    50.0     1.0         126517.0   \n",
      "2863       Vermont  Washington County    50.0     1.0          58612.0   \n",
      "\n",
      "      POPESTIMATE2014  \n",
      "1211          31863.0  \n",
      "1918          62402.0  \n",
      "2345         208175.0  \n",
      "2355         126430.0  \n",
      "2863          58940.0  \n",
      "<class 'pandas.core.frame.DataFrame'>\n"
     ]
    }
   ],
   "source": [
    "import pandas as pd\n",
    "parttwo_df = pd.read_csv('census.csv')\n",
    "helper = ['REGION','POPESTIMATE2015','POPESTIMATE2014']\n",
    "my_columns = ['STNAME', 'CTYNAME', 'SUMLEV'] + helper\n",
    "\n",
    "question8_df = parttwo_df[my_columns]\n",
    "question8_df = question8_df.where(question8_df['SUMLEV'] == 50)\n",
    "question8_df = question8_df.dropna()\n",
    "state_list = question8_df['STNAME'].unique()\n",
    "county_list = question8_df['CTYNAME']\n",
    "\n",
    "new_q8_df = question8_df.copy()\n",
    "new_q8_df.set_index('CTYNAME', inplace = True)\n",
    "#print(new_q8_df.head())\n",
    "\n",
    "#filter_df = question8_df[(question8_df['CTYNAME']==cty) & (question8_df['REGION'] == (1 or 2))].copy(deep=True)\n",
    "#print(question8_df[(question8_df['CTYNAME'].str.contains('Wash')) & (question8_df['REGION'] == (1 or 2))])\n",
    "filter_df = question8_df[(question8_df['CTYNAME'].str.contains('Wash')) & (question8_df['REGION'] == (1 or 2))]\n",
    "#for cty in new_q8_df.index:\n",
    "    #if cty.startswith('Wash'):\n",
    "        #print(question8_df[(question8_df['CTYNAME']==cty) & (question8_df['REGION'] == (1 or 2))].values)\n",
    "        #print(question8_df[(question8_df['CTYNAME']==cty) & (question8_df['REGION'] == (1 or 2))])\n",
    "        #filter_df.append(question8_df[(question8_df['CTYNAME']==cty) & (question8_df['REGION'] == (1 or 2))].copy(deep=True))\n",
    "        #filter_df.iloc[0:] = question8_df[(question8_df['CTYNAME']==cty) & (question8_df['REGION'] == (1 or 2))].iloc[0:].values\n",
    "        #filter_df = (question8_df[(question8_df['CTYNAME']==cty) & (question8_df['REGION'] == (1 or 2))]).copy()\n",
    "        #filter_df = (question8_df[(question8_df['CTYNAME']==cty) & (question8_df['REGION'].isin([1, 2]))]).copy()\n",
    "    #filter_df = question8_df[(question8_df['CTYNAME']==cty) & (question8_df['REGION'] == (1 or 2)) & (question8_df['POPESTIMATE2015'] > question8_df['POPESTIMATE2014'])]\n",
    "    #filter_df = filter_df.isin(['Washington'])\n",
    "    #filter_df = filter_df[(filter_df['POPESTIMATE2015'] > filter_df['POPESTIMATE2014'])]\n",
    "    #filter_df = filter_df.dropna()\n",
    "    #filter_df.sort_values(by = 'POPESTIMATE2015', ascending = False).head()\n",
    "\n",
    "print((filter_df.head()))\n",
    "print(type(filter_df))\n",
    "    "
   ]
  },
  {
   "cell_type": "code",
   "execution_count": null,
   "metadata": {},
   "outputs": [],
   "source": []
  },
  {
   "cell_type": "code",
   "execution_count": null,
   "metadata": {},
   "outputs": [],
   "source": []
  }
 ],
 "metadata": {
  "kernelspec": {
   "display_name": "Python 3",
   "language": "python",
   "name": "python3"
  },
  "language_info": {
   "codemirror_mode": {
    "name": "ipython",
    "version": 3
   },
   "file_extension": ".py",
   "mimetype": "text/x-python",
   "name": "python",
   "nbconvert_exporter": "python",
   "pygments_lexer": "ipython3",
   "version": "3.7.6"
  }
 },
 "nbformat": 4,
 "nbformat_minor": 4
}
