{
 "cells": [
  {
   "cell_type": "code",
   "execution_count": 1,
   "metadata": {},
   "outputs": [
    {
     "name": "stdout",
     "output_type": "stream",
     "text": [
      "Texas\n"
     ]
    },
    {
     "data": {
      "text/plain": [
       "['California', 'Texas', 'Illinois']"
      ]
     },
     "execution_count": 1,
     "metadata": {},
     "output_type": "execute_result"
    }
   ],
   "source": [
    "def answer_five():\n",
    "    states = census_df.where(census_df['SUMLEV'] == 40)\n",
    "    states = states.dropna()\n",
    "    print(len(states))\n",
    "    counties = census_df.where(census_df['SUMLEV'] == 50)\n",
    "    counties = counties.dropna()\n",
    "    \n",
    "   # if (counties.where(counties['STNAME'])== states.where(states['STNAME'])):\n",
    "    #    county_counter = county_counter + 1\n",
    "    #print((counties.count()))\n",
    "    \n",
    "    columns_to_keep = ['STNAME',\n",
    "                   'CTYNAME',\n",
    "                   'BIRTHS2010',\n",
    "                   'BIRTHS2011',\n",
    "                   'BIRTHS2012',\n",
    "                   'BIRTHS2013',\n",
    "                   'BIRTHS2014',\n",
    "                   'BIRTHS2015',\n",
    "                   'POPESTIMATE2010',\n",
    "                   'POPESTIMATE2011',\n",
    "                   'POPESTIMATE2012',\n",
    "                   'POPESTIMATE2013',\n",
    "                   'POPESTIMATE2014',\n",
    "                   'POPESTIMATE2015']\n",
    "    col_to_keep = ['STNAME', 'CTYNAME', 'SUMLEV']\n",
    "    new_dataframe = census_df[col_to_keep]\n",
    "    #print(new_dataframe)\n",
    "    new_dataframe = new_dataframe.set_index(['STNAME', 'CTYNAME'])\n",
    "    #print(new_dataframe)\n",
    "    #print((new_dataframe.where(new_dataframe['SUMLEV']==50)).dropna())\n",
    "    #print(new_dataframe.get_index('STNAME'))\n",
    "    \n",
    "    #print(new_dataframe.max(level = 0))\n",
    "    print(new_dataframe.groupby(level = 0).count())\n",
    "    return \"YOUR ANSWER HERE\"\n",
    "answer_five()\n",
    "\n",
    "#5th question\n",
    "import pandas as pd\n",
    "census_df = pd.read_csv('census.csv')\n",
    "\n",
    "counties = census_df.where(census_df['SUMLEV'] == 50)\n",
    "counties = counties.dropna()\n",
    "states = counties['STNAME'].unique()\n",
    "\n",
    "\n",
    "#print(states)\n",
    "state_df = pd.DataFrame()\n",
    "state_df['States'] = states\n",
    "state_df['CountyCount'] = 0\n",
    "\n",
    "state_df.set_index('States', inplace = True)\n",
    "#print(state_df)\n",
    "\n",
    "for st in state_df.index:\n",
    "    stcount = len(counties[counties['STNAME'] == st])\n",
    "    state_df['CountyCount'].loc[st] = stcount\n",
    "\n",
    "print((state_df.idxmax()[0]))\n",
    "#print(max(state_df['CountyCount']))\n",
    "\n",
    "\n",
    "#6th question: CENSUS2010POP\n",
    "col_to_keep = ['STNAME', 'CTYNAME', 'SUMLEV', 'CENSUS2010POP']\n",
    "counties2 = counties[col_to_keep]\n",
    "most_populus_counties = []\n",
    "state_df2 = pd.DataFrame()\n",
    "state_df2['States'] = states\n",
    "state_df2['Populus'] = 0\n",
    "\n",
    "state_df2.set_index('States', inplace = True)\n",
    "#print(state_df2)\n",
    "for st in state_df2.index:\n",
    "    pop_counties = (counties2[counties2['STNAME'] == st]).sort_values(by='CENSUS2010POP',ascending=False).head(3)\n",
    "    #print(pop_counties)\n",
    "    most_populus_counties= sum(pop_counties['CENSUS2010POP'])\n",
    "    state_df2['Populus'].loc[st] = most_populus_counties\n",
    "    \n",
    "state_df2.sort_values(by= 'Populus', ascending=False).head(3).index.to_list()\n"
   ]
  }
 ],
 "metadata": {
  "kernelspec": {
   "display_name": "Python 3",
   "language": "python",
   "name": "python3"
  },
  "language_info": {
   "codemirror_mode": {
    "name": "ipython",
    "version": 3
   },
   "file_extension": ".py",
   "mimetype": "text/x-python",
   "name": "python",
   "nbconvert_exporter": "python",
   "pygments_lexer": "ipython3",
   "version": "3.7.6"
  }
 },
 "nbformat": 4,
 "nbformat_minor": 4
}
